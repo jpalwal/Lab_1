{
 "cells": [
  {
   "cell_type": "code",
   "execution_count": 3,
   "metadata": {},
   "outputs": [],
   "source": [
    "parsed_data=open(\"parsed_data.log\").read()"
   ]
  },
  {
   "cell_type": "code",
   "execution_count": 4,
   "metadata": {},
   "outputs": [
    {
     "name": "stdout",
     "output_type": "stream",
     "text": [
      "PrChecker.Downs...   INFO **** Downstream                    2001182 tracks including        778305 ghosts [38.9 %], Event average  32.8 % ****\n",
      "PrChecker.Downs...   INFO                             UT+T : 1082186 from  1495076 [ 72.4 %]   1721 clones [ 0.2 %], purity: 97.57 %, hitEff: 98.68 %\n",
      "PrChecker.Downs...   INFO                        UT+T>5GeV :  722379 from   911792 [ 79.2 %]   1466 clones [ 0.2 %], purity: 97.62 %, hitEff: 98.82 %\n",
      "PrChecker.Downs...   INFO                     UT+T_strange :  110106 from   157253 [ 70.0 %]    151 clones [ 0.1 %], purity: 97.58 %, hitEff: 98.64 %\n",
      "PrChecker.Downs...   INFO                UT+T_strange>5GeV :   68399 from    88998 [ 76.9 %]    119 clones [ 0.2 %], purity: 97.62 %, hitEff: 98.79 %\n",
      "PrChecker.Downs...   INFO              noVelo+UT+T_strange :   61846 from    91320 [ 67.7 %]     78 clones [ 0.1 %], purity: 97.57 %, hitEff: 98.56 %\n",
      "PrChecker.Downs...   INFO         noVelo+UT+T_strange>5GeV :   41318 from    55067 [ 75.0 %]     65 clones [ 0.2 %], purity: 97.63 %, hitEff: 98.76 %\n",
      "PrChecker.Downs...   INFO                       UT+T_fromB :  140376 from   176328 [ 79.6 %]    217 clones [ 0.2 %], purity: 97.84 %, hitEff: 98.97 %\n",
      "PrChecker.Downs...   INFO                  UT+T_fromB>5GeV :  114265 from   136064 [ 84.0 %]    195 clones [ 0.2 %], purity: 97.88 %, hitEff: 99.08 %\n",
      "PrChecker.Downs...   INFO                noVelo+UT+T_fromB :   25324 from    37844 [ 66.9 %]     33 clones [ 0.1 %], purity: 97.73 %, hitEff: 98.61 %\n",
      "PrChecker.Downs...   INFO           noVelo+UT+T_fromB>5GeV :   18656 from    24533 [ 76.0 %]     29 clones [ 0.2 %], purity: 97.78 %, hitEff: 98.91 %\n",
      "PrChecker.Downs...   INFO                     UT+T_SfromDB :   32583 from    42320 [ 77.0 %]     54 clones [ 0.2 %], purity: 97.75 %, hitEff: 98.86 %\n",
      "PrChecker.Downs...   INFO                UT+T_SfromDB>5GeV :   24597 from    30200 [ 81.4 %]     45 clones [ 0.2 %], purity: 97.82 %, hitEff: 98.97 %\n",
      "PrChecker.Downs...   INFO              noVelo+UT+T_SfromDB :   22094 from    29165 [ 75.8 %]     27 clones [ 0.1 %], purity: 97.73 %, hitEff: 98.81 %\n",
      "PrChecker.Downs...   INFO         noVelo+UT+T_SfromDB>5GeV :   17229 from    21472 [ 80.2 %]     24 clones [ 0.1 %], purity: 97.77 %, hitEff: 98.94 %\n",
      "PrChecker.Downs...   INFO \n"
     ]
    }
   ],
   "source": [
    "print(parsed_data)"
   ]
  },
  {
   "cell_type": "code",
   "execution_count": 7,
   "metadata": {
    "collapsed": true
   },
   "outputs": [],
   "source": [
    "import plotly.figure_factory as ff\n",
    "import plotly.plotly as py"
   ]
  },
  {
   "cell_type": "code",
   "execution_count": 8,
   "metadata": {
    "collapsed": true
   },
   "outputs": [],
   "source": [
    "table=ff.create_table(parsed_data)"
   ]
  },
  {
   "cell_type": "code",
   "execution_count": 10,
   "metadata": {},
   "outputs": [],
   "source": [
    "#py.iplot(table, filename=\"jupyter/table1\")"
   ]
  },
  {
   "cell_type": "code",
   "execution_count": null,
   "metadata": {
    "collapsed": true
   },
   "outputs": [],
   "source": []
  }
 ],
 "metadata": {
  "kernelspec": {
   "display_name": "Python 2",
   "language": "python",
   "name": "python2"
  },
  "language_info": {
   "codemirror_mode": {
    "name": "ipython",
    "version": 2
   },
   "file_extension": ".py",
   "mimetype": "text/x-python",
   "name": "python",
   "nbconvert_exporter": "python",
   "pygments_lexer": "ipython2",
   "version": "2.7.13"
  }
 },
 "nbformat": 4,
 "nbformat_minor": 1
}
